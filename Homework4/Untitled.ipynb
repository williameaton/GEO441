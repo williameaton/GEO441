{
 "cells": [
  {
   "cell_type": "markdown",
   "id": "1330aba0",
   "metadata": {},
   "source": [
    "# Homework 4\n",
    "\n",
    "\n",
    "### Discretised equations of motion \n",
    "\n",
    "The velocity-stress formulation of the 1D wave equation is \n",
    "\n",
    "$$ \\partial_t T(x,t) = \\kappa(x) \\partial_x v(x,t) $$\n",
    "$$ \\partial_t v(x,t) = \\frac{1}{\\rho(x)} \\partial_x T(x,t).$$\n",
    "\n",
    "Using a centered finite difference timescheme  we can rearrange to show that \n",
    "\n",
    "$$ T^{n+1}_{i} = T^{n-1}_{i} +  2 \\Delta t \\kappa^n_i [\\partial_x v]^n_i $$\n",
    "$$ v^{n+1}_{i} = v^{n-1}_{i} +  2 \\Delta t \\frac{1}{\\rho^n_i} [\\partial_x T]^n_i $$\n",
    "\n",
    "Estimating the gradient can then be done either as using a finite-difference method (as in Homework 1) or using a pseudospectral approximation. "
   ]
  },
  {
   "cell_type": "code",
   "execution_count": null,
   "id": "2cfdb0dd",
   "metadata": {},
   "outputs": [],
   "source": []
  }
 ],
 "metadata": {
  "kernelspec": {
   "display_name": "Python 3 (ipykernel)",
   "language": "python",
   "name": "python3"
  },
  "language_info": {
   "codemirror_mode": {
    "name": "ipython",
    "version": 3
   },
   "file_extension": ".py",
   "mimetype": "text/x-python",
   "name": "python",
   "nbconvert_exporter": "python",
   "pygments_lexer": "ipython3",
   "version": "3.8.10"
  }
 },
 "nbformat": 4,
 "nbformat_minor": 5
}
