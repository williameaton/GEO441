{
 "cells": [
  {
   "cell_type": "markdown",
   "id": "1330aba0",
   "metadata": {},
   "source": [
    "# Homework 4\n",
    "\n",
    "\n",
    "### Discretised equations of motion \n",
    "\n",
    "The velocity-stress formulation of the 1D wave equation is \n",
    "\n",
    "$$ \\partial_t T(x,t) = \\kappa(x) \\partial_x v(x,t) $$\n",
    "$$ \\partial_t v(x,t) = \\frac{1}{\\rho(x)} \\partial_x T(x,t).$$\n",
    "\n",
    "Using a centered finite difference timescheme  we can rearrange to show that \n",
    "\n",
    "$$ T^{n+1}_{i} = T^{n-1}_{i} +  2 \\Delta t \\kappa^n_i [\\partial_x v]^n_i $$\n",
    "$$ v^{n+1}_{i} = v^{n-1}_{i} +  2 \\Delta t \\frac{1}{\\rho^n_i} [\\partial_x T]^n_i $$\n",
    "\n",
    "Estimating the gradient can then be done either as using a finite-difference method (as in Homework 1) or using a pseudospectral approximation. \n",
    "\n",
    "\n",
    "$$v^n_l = \\mathcal{F}(v^n_i)$$ where $l$ is the index of the discrete wavenumber $k$, $\\mathbf{i} = \\sqrt{-1}$ and $\\mathcal{F}$ and $\\mathcal{F}^{-1}$ are the forward and inverse Fourier transforms .\n",
    "\n",
    "We know that the derivative in the wavenumber domain can then be written as \n",
    "$$\\partial_x \\mathcal{F}(v^n_i) = \\mathbf{i} k \\mathcal{F}(v^n_i)$$\n",
    "\n",
    "and therefore\n",
    "$$\\partial_x v^n_i = \\mathcal{F}^{-1}(\\mathbf{i} k \\mathcal{F}(v^n_i)).$$ Using the pseudospectral method our equations of motion therefore become: \n",
    "\n",
    "\n",
    "$$ T^{n+1}_{i} = T^{n-1}_{i} +  2 \\Delta t \\kappa^n_i \\mathcal{F}^{-1}(\\mathbf{i} k \\mathcal{F}(v^n_i))$$\n",
    "$$ v^{n+1}_{i} = v^{n-1}_{i} +   \\frac{2 \\Delta t}{\\rho^n_i} \\mathcal{F}^{-1}(\\mathbf{i} k \\mathcal{F}(T^n_i))$$\n",
    "\n",
    "\n",
    "### Homogenous simulations\n",
    "\n",
    "Boundary conditions can not be implemented in the same way as for finite-difference methods. In the case that no boundary conditions are directly applied, the pseudospectral method appears to inherently adopt a Neumann (stress-free) boundary condition. This can be seen in the animation below which compares a finite-difference and psuedospectal solution for homogenous wave propagation. "
   ]
  },
  {
   "cell_type": "code",
   "execution_count": null,
   "id": "2cfdb0dd",
   "metadata": {},
   "outputs": [],
   "source": []
  }
 ],
 "metadata": {
  "kernelspec": {
   "display_name": "Python 3 (ipykernel)",
   "language": "python",
   "name": "python3"
  },
  "language_info": {
   "codemirror_mode": {
    "name": "ipython",
    "version": 3
   },
   "file_extension": ".py",
   "mimetype": "text/x-python",
   "name": "python",
   "nbconvert_exporter": "python",
   "pygments_lexer": "ipython3",
   "version": "3.9.7"
  }
 },
 "nbformat": 4,
 "nbformat_minor": 5
}
