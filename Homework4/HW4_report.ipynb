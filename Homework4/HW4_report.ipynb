{
 "cells": [
  {
   "cell_type": "markdown",
   "id": "1330aba0",
   "metadata": {},
   "source": [
    "# Homework 4\n",
    "\n",
    "\n",
    "### Discretised equations of motion \n",
    "\n",
    "The velocity-stress formulation of the 1D wave equation is \n",
    "\n",
    "$$ \\partial_t T(x,t) = \\kappa(x) \\partial_x v(x,t) $$\n",
    "$$ \\partial_t v(x,t) = \\frac{1}{\\rho(x)} \\partial_x T(x,t).$$\n",
    "\n",
    "Using a centered finite difference timescheme  we can rearrange to show that \n",
    "\n",
    "$$ T^{n+1}_{i} = T^{n-1}_{i} +  2 \\Delta t \\kappa^n_i [\\partial_x v]^n_i $$\n",
    "$$ v^{n+1}_{i} = v^{n-1}_{i} +  2 \\Delta t \\frac{1}{\\rho^n_i} [\\partial_x T]^n_i $$\n",
    "\n",
    "Estimating the gradient can then be done either as using a finite-difference method (as in Homework 1) or using a pseudospectral approximation. \n",
    "\n",
    "\n",
    "$$v^n_l = \\mathcal{F}(v^n_i)$$ where $l$ is the index of the discrete wavenumber $k$, $\\mathbf{i} = \\sqrt{-1}$ and $\\mathcal{F}$ and $\\mathcal{F}^{-1}$ are the forward and inverse Fourier transforms .\n",
    "\n",
    "We know that the derivative in the wavenumber domain can then be written as \n",
    "$$\\partial_x \\mathcal{F}(v^n_i) = \\mathbf{i} k \\mathcal{F}(v^n_i)$$\n",
    "\n",
    "and therefore\n",
    "$$\\partial_x v^n_i = \\mathcal{F}^{-1}(\\mathbf{i} k \\mathcal{F}(v^n_i)).$$ Using the pseudospectral method our equations of motion therefore become: \n",
    "\n",
    "\n",
    "$$ T^{n+1}_{i} = T^{n-1}_{i} +  2 \\Delta t \\kappa^n_i \\mathcal{F}^{-1}(\\mathbf{i} k \\mathcal{F}(v^n_i))$$\n",
    "$$ v^{n+1}_{i} = v^{n-1}_{i} +   \\frac{2 \\Delta t}{\\rho^n_i} \\mathcal{F}^{-1}(\\mathbf{i} k \\mathcal{F}(T^n_i))$$\n",
    "\n",
    "\n",
    "### Homogenous simulations\n",
    "\n",
    "Boundary conditions can not be implemented in the same way as for finite-difference methods. In the animation below I use a Neumann (stress-free) boundary condition on the left-hand boundary and a Dirichlet (displacement-free) boundary on the right-hand boundary."
   ]
  },
  {
   "cell_type": "code",
   "execution_count": 2,
   "id": "2cfdb0dd",
   "metadata": {},
   "outputs": [
    {
     "data": {
      "text/html": [
       "<video src=\"./videos/homogenous.mp4\" controls  width=\"560\"  height=\"300\">\n",
       "      Your browser does not support the <code>video</code> element.\n",
       "    </video>"
      ],
      "text/plain": [
       "<IPython.core.display.Video object>"
      ]
     },
     "execution_count": 2,
     "metadata": {},
     "output_type": "execute_result"
    }
   ],
   "source": [
    "from IPython.display import Video\n",
    "Video(\"./videos/homogenous.mp4\", width=560, height=300)"
   ]
  },
  {
   "cell_type": "markdown",
   "id": "dd3174a6",
   "metadata": {},
   "source": [
    "*Note that I have reduced the domain size to* $x \\in [30, 70]$ *as the timestep is dramatically reduced from \\sim 0.5 to 0.03 to enable stability in the pseudospectral simulation.*\n",
    "\n",
    "In the case that no boundary conditions are directly applied, the pseudospectral method appears to inherently adopt a Neumann (stress-free) boundary condition. The boundary effect is more apparent in the heterogenous simulation as discussed below. \n",
    "\n",
    "\n",
    "\n",
    "### Heterogenous simulations\n",
    "\n",
    "If we replace the heterogenous medium with a heterogenous medium of the following properties \n",
    "\n",
    "$$\n",
    "\\rho(x) = 1, \\: \\: \\kappa(x) =1, x \\in [0, 60] \n",
    "$$\n",
    "\n",
    "$$\n",
    "\\rho(x) = 1, \\: \\: \\kappa(x) =4, x \\in [60, 100] \n",
    "$$\n",
    "\n",
    "the simulation becomes notably less stable for the pseudospectral solver and requires a smaller timestep (or larger dx). Note here that for simplicity both boundaries are Neumann boundary conditions for the finite-difference method:  "
   ]
  },
  {
   "cell_type": "code",
   "execution_count": 3,
   "id": "ec285921",
   "metadata": {},
   "outputs": [
    {
     "data": {
      "text/html": [
       "<video src=\"./videos/heterogenous.mp4\" controls  width=\"560\"  height=\"300\">\n",
       "      Your browser does not support the <code>video</code> element.\n",
       "    </video>"
      ],
      "text/plain": [
       "<IPython.core.display.Video object>"
      ]
     },
     "execution_count": 3,
     "metadata": {},
     "output_type": "execute_result"
    }
   ],
   "source": [
    "from IPython.display import Video\n",
    "Video(\"./videos/heterogenous.mp4\", width=560, height=300)"
   ]
  },
  {
   "cell_type": "markdown",
   "id": "05c971eb",
   "metadata": {},
   "source": [
    "There are also two further noticable features: \n",
    "* The finite different method is less stable in the region surrounding the heterogeneity interface than the pseudospectral solution (which is visible in the small oscillatory shape of the finite-difference wave around the boundary) \n",
    "* The pseudospectal method boundaries behave seperately to the finite difference Neumann boundaries. I believe that the reason for this is that the two boundaries are intrinsically linked due to the periodicity of the Fourier basis. The result is that the energy that leaves the LHS boundary enters the domain from the RHS and vice versa - in the case of a homogenous medium with a source at the centre, this resembles a Neumann boundary. However when the phases reach each boundary at different times (due to heterogenous speeds in the domain) this effect is evident. To emphasise this I attach a second animation below of a source that is not central in a (homogenous) domain below\n"
   ]
  },
  {
   "cell_type": "code",
   "execution_count": null,
   "id": "11329ac4",
   "metadata": {},
   "outputs": [],
   "source": [
    "from IPython.display import Video\n",
    "Video(\"./videos/homogenous_doubledomain.mp4\", width=560, height=300)"
   ]
  },
  {
   "cell_type": "markdown",
   "id": "1c448604",
   "metadata": {},
   "source": [
    "In the above simulation it is clear that the phase leaving the RHS boudary reappears on the LHS boundary. Due to the size of the boundary, we can also see that the inital pulse which propagates in the negative $x$ direction travels at a different wavespeed for the pseudospectral and finite-difference solvers. I think this is due to numerical dispersion resulting from the different $c_{grid}$ wavespeeds (dispersion equations) for the two solvers. "
   ]
  },
  {
   "cell_type": "code",
   "execution_count": null,
   "id": "e148cf92",
   "metadata": {},
   "outputs": [],
   "source": []
  }
 ],
 "metadata": {
  "kernelspec": {
   "display_name": "Python 3 (ipykernel)",
   "language": "python",
   "name": "python3"
  },
  "language_info": {
   "codemirror_mode": {
    "name": "ipython",
    "version": 3
   },
   "file_extension": ".py",
   "mimetype": "text/x-python",
   "name": "python",
   "nbconvert_exporter": "python",
   "pygments_lexer": "ipython3",
   "version": "3.9.7"
  }
 },
 "nbformat": 4,
 "nbformat_minor": 5
}
