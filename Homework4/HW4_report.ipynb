{
 "cells": [
  {
   "cell_type": "markdown",
   "id": "1330aba0",
   "metadata": {},
   "source": [
    "# Homework 4\n",
    "\n",
    "\n",
    "### Discretised equations of motion \n",
    "\n",
    "The velocity-stress formulation of the 1D wave equation is \n",
    "\n",
    "$$ \\partial_t T(x,t) = \\kappa(x) \\partial_x v(x,t) $$\n",
    "$$ \\partial_t v(x,t) = \\frac{1}{\\rho(x)} \\partial_x T(x,t).$$\n",
    "\n",
    "Using a centered finite difference timescheme  we can rearrange to show that \n",
    "\n",
    "$$ T^{n+1}_{i} = T^{n-1}_{i} +  2 \\Delta t \\kappa^n_i [\\partial_x v]^n_i $$\n",
    "$$ v^{n+1}_{i} = v^{n-1}_{i} +  2 \\Delta t \\frac{1}{\\rho^n_i} [\\partial_x T]^n_i $$\n",
    "\n",
    "Estimating the gradient can then be done either as using a finite-difference method (as in Homework 1) or using a pseudospectral approximation. \n",
    "\n",
    "\n",
    "$$v^n_l = \\mathcal{F}(v^n_i)$$ where $l$ is the index of the discrete wavenumber $k$, $\\mathbf{i} = \\sqrt{-1}$ and $\\mathcal{F}$ and $\\mathcal{F}^{-1}$ are the forward and inverse Fourier transforms .\n",
    "\n",
    "We know that the derivative in the wavenumber domain can then be written as \n",
    "$$\\partial_x \\mathcal{F}(v^n_i) = \\mathbf{i} k \\mathcal{F}(v^n_i)$$\n",
    "\n",
    "and therefore\n",
    "$$\\partial_x v^n_i = \\mathcal{F}^{-1}(\\mathbf{i} k \\mathcal{F}(v^n_i)).$$ Using the pseudospectral method our equations of motion therefore become: \n",
    "\n",
    "\n",
    "$$ T^{n+1}_{i} = T^{n-1}_{i} +  2 \\Delta t \\kappa^n_i \\mathcal{F}^{-1}(\\mathbf{i} k \\mathcal{F}(v^n_i))$$\n",
    "$$ v^{n+1}_{i} = v^{n-1}_{i} +   \\frac{2 \\Delta t}{\\rho^n_i} \\mathcal{F}^{-1}(\\mathbf{i} k \\mathcal{F}(T^n_i))$$\n",
    "\n",
    "\n",
    "### Homogenous simulations\n",
    "\n",
    "Boundary conditions can not be implemented in the same way as for finite-difference methods. In the animation below I use a Neumann (stress-free) boundary condition on the left-hand boundary and a Dirichlet (displacement-free) boundary on the right-hand boundary."
   ]
  },
  {
   "cell_type": "code",
   "execution_count": 2,
   "id": "2cfdb0dd",
   "metadata": {},
   "outputs": [
    {
     "data": {
      "text/html": [
       "<video src=\"./videos/homogenous.mp4\" controls  width=\"560\"  height=\"300\">\n",
       "      Your browser does not support the <code>video</code> element.\n",
       "    </video>"
      ],
      "text/plain": [
       "<IPython.core.display.Video object>"
      ]
     },
     "execution_count": 2,
     "metadata": {},
     "output_type": "execute_result"
    }
   ],
   "source": [
    "from IPython.display import Video\n",
    "Video(\"./videos/homogenous.mp4\", width=560, height=300)"
   ]
  },
  {
   "cell_type": "markdown",
   "id": "dd3174a6",
   "metadata": {},
   "source": [
    "*Note that I have reduced the domain size to* $x \\in [30, 70]$ *as the timestep is dramatically reduced from \\sim 0.5 to 0.03 to enable stability in the pseudospectral simulation.*\n",
    "\n",
    "There are two notable features in the above animation: \n",
    "    \n",
    "* In the case that no boundary conditions are directly applied, the pseudospectral method appears to inherently adopt a Neumann (stress-free) boundary condition.\n",
    "* The interaction of the finite-difference solution and the pseudospectral solutions with the Neumann boundary appear to produce a small phase-difference between the two waves (which becomes more noticable with increased propagation time). "
   ]
  },
  {
   "cell_type": "code",
   "execution_count": null,
   "id": "ec285921",
   "metadata": {},
   "outputs": [],
   "source": []
  }
 ],
 "metadata": {
  "kernelspec": {
   "display_name": "Python 3 (ipykernel)",
   "language": "python",
   "name": "python3"
  },
  "language_info": {
   "codemirror_mode": {
    "name": "ipython",
    "version": 3
   },
   "file_extension": ".py",
   "mimetype": "text/x-python",
   "name": "python",
   "nbconvert_exporter": "python",
   "pygments_lexer": "ipython3",
   "version": "3.8.10"
  }
 },
 "nbformat": 4,
 "nbformat_minor": 5
}
