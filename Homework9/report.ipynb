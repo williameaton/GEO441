{
 "cells": [
  {
   "cell_type": "markdown",
   "source": [
    "# Homework 9 report: \n",
    "\n",
    "Below I show results from simulations of PSV and SH sources using specfem2d. The simulations show the key difference between the two sources, namely that for a PSV source we observe both P-waves and SV waves (hence the name!) where as for the SH source only an S-wave is observed. PSV displacement wavefields are only non-zero on the X and Z channels/directions while the SH displacement wavefield is only non-zero in the Y direction. Note that in the videos below the PSV source shows the wavefield animation for the Z channel, while for the SH source the Y channel is shown: \n",
    "\n",
    "### PSV animation: \n",
    "The result of the source below is complex due to a number of reflections and conversions between P and SV waves at the discontinuity in material properties: "
   ],
   "metadata": {}
  },
  {
   "cell_type": "code",
   "execution_count": 3,
   "source": [
    "from IPython.display import Video\n",
    "Video(\"./visualisation/PSV.mp4\")"
   ],
   "outputs": [
    {
     "output_type": "execute_result",
     "data": {
      "text/html": [
       "<video src=\"./visualisation/PSV.mp4\" controls  >\n",
       "      Your browser does not support the <code>video</code> element.\n",
       "    </video>"
      ],
      "text/plain": [
       "<IPython.core.display.Video object>"
      ]
     },
     "metadata": {},
     "execution_count": 3
    }
   ],
   "metadata": {}
  },
  {
   "cell_type": "markdown",
   "source": [
    "### SH animation: "
   ],
   "metadata": {}
  },
  {
   "cell_type": "code",
   "execution_count": 4,
   "source": [
    "Video('./visualisation/SH.mp4')"
   ],
   "outputs": [
    {
     "output_type": "execute_result",
     "data": {
      "text/html": [
       "<video src=\"./visualisation/SH.mp4\" controls  >\n",
       "      Your browser does not support the <code>video</code> element.\n",
       "    </video>"
      ],
      "text/plain": [
       "<IPython.core.display.Video object>"
      ]
     },
     "metadata": {},
     "execution_count": 4
    }
   ],
   "metadata": {}
  },
  {
   "cell_type": "markdown",
   "source": [
    "## Comparing simulation parameters: \n",
    "\n",
    "Below I show seismograms for the SH simulation with the following varied parameters: \n",
    "\n",
    "| **NEX** | **NEZ** | **NGLLX** | **NGLLZ** | **Pts/$\\lambda$ <br>(S-wave)** |\n",
    "|:-------:|:-------:|:---------:|:---------:|:------------------------------:|\n",
    "|   100   |    60   |     7     |     7     |                7               |\n",
    "|    50   |    30   |     7     |     7     |                3               |\n",
    "|    25   |    15   |     7     |     7     |                1               |\n",
    "|    25   |    15   |     14    |     14    |                3               |\n",
    "\n",
    "This range of parameters highlights the effect of changing the number of elements, and the number of GLL points. \n",
    "\n",
    "\n",
    "In this first image below I show the difference between the first two simulations, namely the difference between NEX=100, NEZ=50 and for a simulation with half the number of elements in each direction. Taking for the purpose of comparison the simulation with highest NEX, NEZ to be the true wavefield, it is evident that the decrease in the number of elements has a large effect on the wavefield: \n",
    "\n",
    "\n",
    "<img src=\"./visualisation/compare_seismograms/100_50.png\"\n",
    "     alt=\"\"\n",
    "     style=\"float: left; margin-right: 10px;\" />\n",
    "\n",
    "\n",
    "Two noticable effects are: \n",
    "* The lower frequency of the wavefield when the number of elements is lower, due to the inability for the mesh to resolve the higher-frequency waves. \n",
    "* The increasing phase difference for the later arriving phases.\n",
    "\n",
    "\n",
    "Despite this, the overal shape of and general arrival times of phases are consistent. However, if we reduce the number of elements further we observe a drastic change in the wavefield: \n",
    "\n",
    "<img src=\"./visualisation/compare_seismograms/100_50_25.png\"\n",
    "     alt=\"\"\n",
    "     style=\"float: left; margin-right: 10px;\" />\n",
    "\n",
    "Again, the frequency is lower but there is a much larger change in the arrival time of phases. \n",
    "\n",
    "\n",
    "Given that there is a clear change related to the number of elements, the next question is then what is the effect of changing the number of GLL points per element. Below I show the 2nd and 4th simulations. The 2nd simulation has double the number of elements as the 4th, but half the number of GLL points such that the number of grid points per wavelength should be the same (as per the output of the code). However it is notable that the results do not show identical wavefields: \n",
    "\n",
    "<img src=\"./visualisation/compare_seismograms/GLL.png\"\n",
    "     alt=\"\"\n",
    "     style=\"float: left; margin-right: 10px;\" />\n",
    "\n",
    "While the first arrivals are not entirely inconsistent, there is a substantial phase offset between the arrival of the (surface?) wave arriving at around 40 seconds. I am not sure what causes such a large disagreement. My only theory is that it is related to the distribution of GLL points in space being different between the simulations, even though the overall number is the same, and that this may be affecting the ability for the wavefield at boundaries such as the surface to be accurately modelled? I would be interested in discussing this more! \n",
    "\n",
    "\n"
   ],
   "metadata": {}
  }
 ],
 "metadata": {
  "orig_nbformat": 4,
  "language_info": {
   "name": "python",
   "version": "3.9.7",
   "mimetype": "text/x-python",
   "codemirror_mode": {
    "name": "ipython",
    "version": 3
   },
   "pygments_lexer": "ipython3",
   "nbconvert_exporter": "python",
   "file_extension": ".py"
  },
  "kernelspec": {
   "name": "python3",
   "display_name": "Python 3.9.7 64-bit"
  },
  "interpreter": {
   "hash": "aee8b7b246df8f9039afb4144a1f6fd8d2ca17a180786b69acc140d282b71a49"
  }
 },
 "nbformat": 4,
 "nbformat_minor": 2
}