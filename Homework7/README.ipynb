{
 "cells": [
  {
   "cell_type": "markdown",
   "source": [
    "# Homework 7: 1D Spectral Element solver\n",
    "Author: Will Eaton \\\n",
    "Last updated: Saturday 26th March\n",
    "\n",
    "## What's in the directory? \n",
    "There are quite a few files in this directory so here is a quick guide for any of the things not provided for the homework: \n",
    "* ```example_data (directory)``` - this holds some different data from calculations with both homogeneous and heterogeneous element-spacing and material properties. This data is used in plot_example_data.py to produce the animation shown in this report below. \n",
    "* ```obj (directory)``` - needs to be there, albeit empty, for compilation \n",
    "* ```kricher_codes.py```- originally I wrote a solver in python (called python_alt.py) as a backup to see where I was going wrong. I used some of Lion Krichner's codes for GLL stuff from their Github and these are in this file. \n",
    "* ```plot_example_data.py``` - This produces an animation plotting all four different permutations asked for in the homework, on the same figure. It relies on the data in ```example_data```\n",
    "* ```plot_funcs.py``` - holds a class that does all the leg-work for loading and plotting the data\n",
    "* ```thermal_profiles.mp4``` - video of the previously-mentioned animation\n",
    "* ```run.sh``` and ```plot.sh``` - short bash scripts that do make clean, compilation, execution and, in the case of ```plot.sh``` also ```runs plot.py``` to plot the result of the calculation\n",
    "\n",
    "I've put some notes on running the scripts at the bottom\n",
    "\n",
    "## Derivations/Equations \n",
    "\n",
    "Here I write the derivation for solving the homogenous heat equation, \n",
    "$$ \\rho c_p\\partial_tT - \\partial_x (k\\partial_x T) = 0 $$\n",
    "using a spectral element solver. \n",
    "\n",
    "Starting with the weak form of the equation: \n",
    "\n",
    "$$ \\int_0^L \\rho c_p w \\partial_tT dx = -\\int_0^L k \\partial_xw \\partial_x T dx + [kw \\partial_x T]^L_0 $$\n",
    "\n",
    "where $w$ is a test function. \n",
    "\n",
    "Spectral elements in the spatial domain are mapped to a reference element using the mapping \n",
    "\n",
    "$$ x(\\xi) = \\sum_{d=1}^2 N_d(\\xi) x_d $$\n",
    "where $N_d(\\xi)$ are linear shape functions in the reference element: \n",
    "\n",
    "$$ N_1(\\xi) = \\frac{1}{2}(1 - \\xi)  \\: \\: \\: \\: N_2(\\xi) = \\frac{1}{2}(1 + \\xi).$$ \n",
    "\n",
    "Hence the geometric mapping has a jacobian that depends on the element width ($h_e$): \n",
    "\n",
    "$$ J = \\frac{\\partial x }{\\partial \\xi} = \\frac{h_e}{2}.$$\n",
    "\n",
    "Unlike for the geometric mapping, the variable fields (e.g. Temperature) are expressed in a basis of Lagrange polynomials of degree $n$ ($l^n$): \n",
    "\n",
    "$$ T(x(\\xi), t) = \\sum_{b = 0}^N T_{b}(t)\\:l_b (\\xi),$$\n",
    "$$ w(x(\\xi)) = \\sum_{a = 0}^N w_{a}\\:l_a (\\xi).$$\n",
    "\n",
    "\n",
    "Note here that the discrete sampling points (finite sum over which the field is expressed, $N$) are GLL points. We can express the weak form equation over the whole domain $x \\in [0,L]$ as a summation over each of $n_e$ elements, $e$ that can be individually mapped to a reference element. For a single element the weak form becomes: \n",
    "\n",
    "$$\\int_{-1}^{+1} \\rho c_p w \\partial_tT \\frac{dx}{d\\xi} d\\xi = -  \\int_{-1}^{+1} k \\partial_{\\xi}w \\partial_{\\xi} T \\frac{d\\xi}{dx} d\\xi  + B $$\n",
    "\n",
    "where B represents the boundary conditions. Subbing in the finite summation approximations for $T$ and $w$ we get: \n",
    "\n",
    "$$\\sum_{a = 0}^N \\sum_{b = 0}^N \\int_{-1}^{+1}  \\rho c_p w_{a}\\:l_a l_b J_e \\dot{T}_{b}  d\\xi = - \\sum_{a = 0}^N \\sum_{b = 0}^N  \\int_{-1}^{+1} k   w_{a} (\\partial_{\\xi}l_a)  (\\partial_{\\xi}l_b) T_{b}  J^{-1}_e d\\xi  + B $$\n",
    "\n",
    "These integrals can be calculated using Gauss quadrature on GLL points: \n",
    "\n",
    "$$ \\int_{\\Omega_e} f(x) dx = \\int_{-1}^{+1} f(\\xi) J_e d\\xi \\approx \\sum_{\\gamma=0}^N W(\\xi_{\\gamma}) f(\\xi_{\\gamma}) J(\\xi_{\\gamma})$$\n",
    "\n",
    "where $\\xi_\\gamma$ are the locations discrete GLL points within an element in the referential element domain. Applying these to the above equation for an element we get: \n",
    "\n",
    "$$\\sum_{a = 0}^N w_{a} \\sum_{b = 0}^N \\dot{T}_{b} \\sum_{\\gamma=0}^N W_{\\gamma} \\rho_{\\gamma} {c_p}_{\\gamma}  l_a(\\xi_{\\gamma}) l_b(\\xi_{\\gamma}) J^{\\gamma}_e    = - \\sum_{a = 0}^N w_{a}  \\sum_{b = 0}^N  T_{b}  \\sum_{\\gamma=0}^N W_{\\gamma} k_{\\gamma}   [\\partial_{\\xi}l_a(\\xi_{\\gamma}) ]  [\\partial_{\\xi}l_b(\\xi_{\\gamma})]  J^{-1}_e  + B $$\n",
    "\n",
    "\n",
    "Defining a local capacity ($M_{ab}$) and stiffness ($K_{ab}$) as \n",
    "\n",
    "$$M_{ab} = \\sum_{\\gamma=0}^N W_{\\gamma} \\rho_{\\gamma} {c_p}_{\\gamma}  l_a(\\xi_{\\gamma}) l_b(\\xi_{\\gamma}) J^{\\gamma}_e$$\n",
    "$$ K_{ab} = \\sum_{\\gamma=0}^N W_{\\gamma} k_{\\gamma}   [\\partial_{\\xi}l_a(\\xi_{\\gamma}) ]  [\\partial_{\\xi}l_b(\\xi_{\\gamma})]  J^{-1}_e$$\n",
    "\n",
    "the summation becomes: \n",
    "\n",
    "$$\\sum_{a = 0}^N \\sum_{b = 0}^N w_{a}  M_{ab}\\dot{T}_{b}   = - \\sum_{a = 0}^N  \\sum_{b = 0}^N  w_{a} K_{ab}T_{b}    + B $$\n",
    "\n",
    "\n",
    "Importantly, because the discrete sample points ($\\xi_{\\gamma}$) within each element are GLL points, the Lagrange polynomials have the following property: \n",
    "$$ l_a(\\xi_i) = \\begin{cases}\n",
    "    1,& i=a\\\\\n",
    "    0,              & \\text{otherwise}\n",
    "\\end{cases} = \\delta_{ia} .$$\n",
    "\n",
    "Therefore \n",
    "\n",
    "$$M_{ab} = \\sum_{\\gamma=0}^N \\rho_{\\gamma} {c_p}_{\\gamma}  \\delta_{ab} J^{\\gamma}_e$$\n",
    "such that $\\mathbf{M}$ is a diagonal matrix. It is therefore possible in the time-marching algorithm to treat the capacity matrix as a vector. \n",
    "\n",
    "\n",
    "## Simulations \n",
    "Below shows the resulting animation from solving the heat equation in four cases: \n",
    "* Homogeneous thermal conductivity (k) and homogeneous element spacing (sp)\n",
    "* Heterogeneous thermal conductivity and homogeneous element spacing \n",
    "* Homogenous thermal conductivity and heterogeneous element spacing \n",
    "* Heterogeneous thermal conductivity and element spacing \n",
    "All simulations are plotted on a single figure for comparison, with ticks showing the location of GLL points:"
   ],
   "metadata": {}
  },
  {
   "cell_type": "code",
   "execution_count": 1,
   "source": [
    "from IPython.display import Video\n",
    "Video(\"thermal_profiles.mp4\")"
   ],
   "outputs": [
    {
     "output_type": "execute_result",
     "data": {
      "text/html": [
       "<video src=\"thermal_profiles.mp4\" controls  >\n",
       "      Your browser does not support the <code>video</code> element.\n",
       "    </video>"
      ],
      "text/plain": [
       "<IPython.core.display.Video object>"
      ]
     },
     "metadata": {},
     "execution_count": 1
    }
   ],
   "metadata": {}
  },
  {
   "cell_type": "markdown",
   "source": [
    "## Running the scripts: \n",
    "\n",
    "I slightly edited the ```diffusion.f90``` such that the output directory and name of the snapshots can be edited by the user before running the solver. Using ```run.sh``` will then do all the compilation and execution of the resulting executable. As well as the 'snapshots' two extra files are also outputted in the same output directory: \n",
    "* time - this just holds a record of the time for each snapshot - this just makes it easier to load in the data from the snapshots in Python for plotting \n",
    "* meta - there are three entries in this file which are (1) the prefix name given by the user for each snapshot (e.g if you dont want to call it snapshot0001 but instead hetero0001) - again this is mostly just so the load process is a bit easier in python (2) the number of snapshots in total (3) the timestep for the simulation \n",
    "\n",
    "Because of these two files it means that to load in the data for plotting in python the only thing you need to do is create an object of a class called ```Plotter``` in ```plot_funcs.py``` and pass the directory (e.g. 'example_data/hetero_k_hetero_sp') to the constructor. "
   ],
   "metadata": {}
  }
 ],
 "metadata": {
  "interpreter": {
   "hash": "aee8b7b246df8f9039afb4144a1f6fd8d2ca17a180786b69acc140d282b71a49"
  },
  "kernelspec": {
   "display_name": "Python 3 (ipykernel)",
   "language": "python",
   "name": "python3"
  },
  "language_info": {
   "codemirror_mode": {
    "name": "ipython",
    "version": 3
   },
   "file_extension": ".py",
   "mimetype": "text/x-python",
   "name": "python",
   "nbconvert_exporter": "python",
   "pygments_lexer": "ipython3",
   "version": "3.8.10"
  }
 },
 "nbformat": 4,
 "nbformat_minor": 5
}